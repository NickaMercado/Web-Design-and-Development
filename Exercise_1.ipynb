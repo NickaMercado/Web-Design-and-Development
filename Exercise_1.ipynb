{
  "nbformat": 4,
  "nbformat_minor": 0,
  "metadata": {
    "colab": {
      "name": "Exercise 1.ipynb",
      "provenance": [],
      "authorship_tag": "ABX9TyPHjnQP0YgtxRwr6AgwAMP6",
      "include_colab_link": true
    },
    "kernelspec": {
      "name": "python3",
      "display_name": "Python 3"
    },
    "language_info": {
      "name": "python"
    }
  },
  "cells": [
    {
      "cell_type": "markdown",
      "metadata": {
        "id": "view-in-github",
        "colab_type": "text"
      },
      "source": [
        "<a href=\"https://colab.research.google.com/github/NickaMercado/Web-Design-and-Development/blob/main/Exercise_1.ipynb\" target=\"_parent\"><img src=\"https://colab.research.google.com/assets/colab-badge.svg\" alt=\"Open In Colab\"/></a>"
      ]
    },
    {
      "cell_type": "code",
      "execution_count": 4,
      "metadata": {
        "colab": {
          "base_uri": "https://localhost:8080/"
        },
        "id": "3UO_m8etmadk",
        "outputId": "85c66ed0-f8b6-4a75-a393-1df083dd51bd"
      },
      "outputs": [
        {
          "output_type": "stream",
          "name": "stdout",
          "text": [
            "Radius of the given circle: 10\n",
            " The area of the given circle is:  314.0\n"
          ]
        }
      ],
      "source": [
        "import numpy as np #Matrix Operator\n",
        "π = 3.14 #Value of Pi\n",
        "Radius = float (input (\"Radius of the given circle: \"))  \n",
        "area_of_the_circle = π * (Radius * Radius) #Formula to determine the area of a circle  \n",
        "print (\" The area of the given circle is: \", area_of_the_circle) #Final Output"
      ]
    }
  ]
}